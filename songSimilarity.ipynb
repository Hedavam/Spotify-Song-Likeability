{
 "cells": [
  {
   "cell_type": "code",
   "execution_count": 2,
   "metadata": {},
   "outputs": [],
   "source": [
    "from typing import List\n",
    "import numpy as np\n",
    "import pandas as pd"
   ]
  },
  {
   "cell_type": "code",
   "execution_count": 3,
   "metadata": {},
   "outputs": [
    {
     "name": "stdout",
     "output_type": "stream",
     "text": [
      "      rank                                         track_name  \\\n",
      "0        1                                F*ck Your Ethnicity   \n",
      "1        2                                        Not Like Us   \n",
      "2        3  Everyday (feat. Rod Stewart, Miguel & Mark Ron...   \n",
      "3        4  1Train (feat. Kendrick Lamar, Joey Bada$$, Yel...   \n",
      "4        5                                          HiiiPower   \n",
      "...    ...                                                ...   \n",
      "2301  2302                           Dead by Daylight (Theme)   \n",
      "2302  2303                                     Love Her Madly   \n",
      "2303  2304                                              Refur   \n",
      "2304  2305                                        Tiny Dancer   \n",
      "2305  2306                                             Purity   \n",
      "\n",
      "               artist                                   album_name  \\\n",
      "0      Kendrick Lamar                                   Section.80   \n",
      "1      Kendrick Lamar                                  Not Like Us   \n",
      "2          A$AP Rocky                            AT.LONG.LAST.A$AP   \n",
      "3          A$AP Rocky              LONG.LIVE.A$AP (Deluxe Version)   \n",
      "4      Kendrick Lamar                                   Section.80   \n",
      "...               ...                                          ...   \n",
      "2301  Michel F. April  Dead by Daylight (Original Game Soundtrack)   \n",
      "2302        The Doors                                   L.A. Woman   \n",
      "2303         Putumayo                     Global Indie by Putumayo   \n",
      "2304       Elton John                      Madman Across The Water   \n",
      "2305              BVG                                Gilded Voyage   \n",
      "\n",
      "      duration_ms  explicit  popularity  acousticness  danceability  energy  \\\n",
      "0          224672      True          54       0.39200         0.601   0.883   \n",
      "1          274192      True          88       0.01070         0.898   0.472   \n",
      "2          260987      True          78       0.00996         0.394   0.661   \n",
      "3          372173      True          61       0.35100         0.489   0.878   \n",
      "4          279855      True          64       0.17900         0.695   0.827   \n",
      "...           ...       ...         ...           ...           ...     ...   \n",
      "2301       240841     False          43       0.03260         0.597   0.297   \n",
      "2302       198467     False          67       0.05730         0.565   0.587   \n",
      "2303       209316     False          24       0.48300         0.481   0.344   \n",
      "2304       377093     False          75       0.38200         0.414   0.428   \n",
      "2305       204086     False          45       0.91300         0.572   0.216   \n",
      "\n",
      "      instrumentalness  key  liveness  loudness  mode  speechiness    tempo  \\\n",
      "0             0.000019    0    0.3970    -6.944     1       0.3280  150.967   \n",
      "1             0.000000    1    0.1410    -7.001     1       0.0776  101.061   \n",
      "2             0.000000    4    0.3430    -8.684     1       0.1920  149.818   \n",
      "3             0.000000    2    0.6980    -3.360     1       0.3680   81.497   \n",
      "4             0.000000    6    0.2830    -5.742     0       0.2820   81.024   \n",
      "...                ...  ...       ...       ...   ...          ...      ...   \n",
      "2301          0.913000    5    0.1060   -12.158     0       0.0319  126.994   \n",
      "2302          0.004930    4    0.0416    -7.393     0       0.0317  147.462   \n",
      "2303          0.002260    9    0.1130   -10.445     1       0.0268  103.206   \n",
      "2304          0.000243    0    0.1480   -11.097     1       0.0278  145.075   \n",
      "2305          0.829000    1    0.0841   -15.977     0       0.0385   80.016   \n",
      "\n",
      "      valence  \n",
      "0      0.5200  \n",
      "1      0.2140  \n",
      "2      0.3350  \n",
      "3      0.7750  \n",
      "4      0.5380  \n",
      "...       ...  \n",
      "2301   0.2540  \n",
      "2302   0.9660  \n",
      "2303   0.2730  \n",
      "2304   0.2820  \n",
      "2305   0.0717  \n",
      "\n",
      "[2306 rows x 18 columns]\n"
     ]
    }
   ],
   "source": [
    "#load songs data\n",
    "song_data = pd.read_json(\"tracks.json\")\n",
    "print(song_data)"
   ]
  },
  {
   "cell_type": "code",
   "execution_count": 9,
   "metadata": {},
   "outputs": [
    {
     "data": {
      "text/plain": [
       "'THat Part'"
      ]
     },
     "execution_count": 9,
     "metadata": {},
     "output_type": "execute_result"
    }
   ],
   "source": [
    "#find attributes of new song given by user (will do this with API):\n",
    "features = [\"acousticness\", \"danceability\", \"energy\", \"liveness\", \"tempo\", \"valence\"]\n",
    "test_song = song_data.loc[1, features].values\n",
    "\n",
    "all_songs_feature_matrix = song_data[features].values\n",
    "\n",
    "#find most similar song to a song the user gives us based on musical features\n",
    "def most_similar_songs(given_song_vector: List[int]):\n",
    "    dot_product = np.dot(all_songs_feature_matrix, given_song_vector)\n",
    "    magnitudes = np.linalg.norm(all_songs_feature_matrix, axis=1) * np.linalg.norm(given_song_vector)\n",
    "\n",
    "    cosine_similarity = dot_product / magnitudes\n",
    "\n",
    "    song_data[\"cosine_similarity\"] = cosine_similarity\n",
    "    most_similar_song = song_data.sort_values(by=\"cosine_similarity\", ascending=False).iloc[2]\n",
    "\n",
    "    return most_similar_song[\"track_name\"]\n",
    "\n",
    "most_similar_songs(test_song)"
   ]
  }
 ],
 "metadata": {
  "kernelspec": {
   "display_name": "cs311",
   "language": "python",
   "name": "python3"
  },
  "language_info": {
   "codemirror_mode": {
    "name": "ipython",
    "version": 3
   },
   "file_extension": ".py",
   "mimetype": "text/x-python",
   "name": "python",
   "nbconvert_exporter": "python",
   "pygments_lexer": "ipython3",
   "version": "3.12.5"
  }
 },
 "nbformat": 4,
 "nbformat_minor": 2
}
