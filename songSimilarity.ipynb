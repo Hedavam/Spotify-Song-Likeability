{
 "cells": [
  {
   "cell_type": "code",
   "execution_count": 1,
   "metadata": {},
   "outputs": [],
   "source": [
    "# pip install numpy pandas"
   ]
  },
  {
   "cell_type": "code",
   "execution_count": 10,
   "metadata": {},
   "outputs": [],
   "source": [
    "from typing import List\n",
    "import numpy as np\n",
    "import pandas as pd"
   ]
  },
  {
   "cell_type": "code",
   "execution_count": 12,
   "metadata": {},
   "outputs": [
    {
     "data": {
      "text/plain": [
       "<pandas.core.indexing._iLocIndexer at 0x163f73f20>"
      ]
     },
     "metadata": {},
     "output_type": "display_data"
    }
   ],
   "source": [
    "#load songs data\n",
    "song_data = pd.read_json(\"tracks.json\")\n",
    "display(song_data)"
   ]
  },
  {
   "cell_type": "code",
   "execution_count": 5,
   "metadata": {},
   "outputs": [
    {
     "name": "stdout",
     "output_type": "stream",
     "text": [
      "Test Song: Not Like Us by Kendrick Lamar\n",
      "Most Similar Song: 1                        Not Like Us\n",
      "158                Just Da Other Day\n",
      "276     Big Shot (with Travis Scott)\n",
      "2076                    Road To Zion\n",
      "359                            NEVER\n",
      "Name: track_name, dtype: object by 1       Kendrick Lamar\n",
      "158                JID\n",
      "276     Kendrick Lamar\n",
      "2076     Damian Marley\n",
      "359                JID\n",
      "Name: artist, dtype: object\n"
     ]
    }
   ],
   "source": [
    "#find attributes of new song given by user (will do this with API):\n",
    "features = [\"acousticness\", \"danceability\", \"energy\", \"instrumentalness\", \"key\", \"liveness\", \"loudness\", \"mode\", \"speechiness\", \"tempo\", \"valence\"]\n",
    "test_song_index = 1\n",
    "test_song = song_data.loc[test_song_index, features].values\n",
    "print(f\"Test Song: {song_data.loc[test_song_index, 'track_name']} by {song_data.loc[test_song_index, 'artist']}\")\n",
    "\n",
    "all_songs_feature_matrix = song_data[features].values\n",
    "\n",
    "#find most similar song to a song the user gives us based on musical features\n",
    "def most_similar_songs(given_song_vector: List[int]):\n",
    "    dot_product = np.dot(all_songs_feature_matrix, given_song_vector)\n",
    "    magnitudes = np.linalg.norm(all_songs_feature_matrix, axis=1) * np.linalg.norm(given_song_vector)\n",
    "\n",
    "    cosine_similarity = dot_product / magnitudes\n",
    "\n",
    "    song_data[\"cosine_similarity\"] = cosine_similarity\n",
    "    most_similar_song = song_data.sort_values(by=\"cosine_similarity\", ascending=False).head(5)\n",
    "\n",
    "    return most_similar_song[\"track_name\"], most_similar_song[\"artist\"]\n",
    "\n",
    "most_similar_song, most_similar_song_artist = most_similar_songs(test_song)\n",
    "print(f\"Most Similar Song: {most_similar_song} by {most_similar_song_artist}\")"
   ]
  }
 ],
 "metadata": {
  "kernelspec": {
   "display_name": "Python 3",
   "language": "python",
   "name": "python3"
  },
  "language_info": {
   "codemirror_mode": {
    "name": "ipython",
    "version": 3
   },
   "file_extension": ".py",
   "mimetype": "text/x-python",
   "name": "python",
   "nbconvert_exporter": "python",
   "pygments_lexer": "ipython3",
   "version": "3.12.5"
  }
 },
 "nbformat": 4,
 "nbformat_minor": 2
}
